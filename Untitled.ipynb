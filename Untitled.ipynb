{
 "cells": [
  {
   "cell_type": "markdown",
   "id": "2d699337",
   "metadata": {},
   "source": [
    "# Basic Statistical Concepts with COVID 19 Data"
   ]
  },
  {
   "cell_type": "markdown",
   "id": "4abf7ec3",
   "metadata": {},
   "source": [
    "## Importing Libraries "
   ]
  },
  {
   "cell_type": "code",
   "execution_count": 1,
   "id": "d5af7dce",
   "metadata": {},
   "outputs": [],
   "source": [
    "import numpy as np\n",
    "import pandas as pd\n",
    "from scipy import stats"
   ]
  },
  {
   "cell_type": "markdown",
   "id": "88f20ba5",
   "metadata": {},
   "source": [
    "## Reading CSV and Dataset Info"
   ]
  },
  {
   "cell_type": "code",
   "execution_count": 2,
   "id": "bd21f4ff",
   "metadata": {},
   "outputs": [
    {
     "data": {
      "text/html": [
       "<div>\n",
       "<style scoped>\n",
       "    .dataframe tbody tr th:only-of-type {\n",
       "        vertical-align: middle;\n",
       "    }\n",
       "\n",
       "    .dataframe tbody tr th {\n",
       "        vertical-align: top;\n",
       "    }\n",
       "\n",
       "    .dataframe thead th {\n",
       "        text-align: right;\n",
       "    }\n",
       "</style>\n",
       "<table border=\"1\" class=\"dataframe\">\n",
       "  <thead>\n",
       "    <tr style=\"text-align: right;\">\n",
       "      <th></th>\n",
       "      <th>iso_code</th>\n",
       "      <th>continent</th>\n",
       "      <th>location</th>\n",
       "      <th>date</th>\n",
       "      <th>total_cases</th>\n",
       "      <th>new_cases</th>\n",
       "    </tr>\n",
       "  </thead>\n",
       "  <tbody>\n",
       "    <tr>\n",
       "      <th>0</th>\n",
       "      <td>AFG</td>\n",
       "      <td>Asia</td>\n",
       "      <td>Afghanistan</td>\n",
       "      <td>24/02/2020</td>\n",
       "      <td>5</td>\n",
       "      <td>5</td>\n",
       "    </tr>\n",
       "    <tr>\n",
       "      <th>1</th>\n",
       "      <td>AFG</td>\n",
       "      <td>Asia</td>\n",
       "      <td>Afghanistan</td>\n",
       "      <td>25/02/2020</td>\n",
       "      <td>5</td>\n",
       "      <td>0</td>\n",
       "    </tr>\n",
       "    <tr>\n",
       "      <th>2</th>\n",
       "      <td>AFG</td>\n",
       "      <td>Asia</td>\n",
       "      <td>Afghanistan</td>\n",
       "      <td>26/02/2020</td>\n",
       "      <td>5</td>\n",
       "      <td>0</td>\n",
       "    </tr>\n",
       "    <tr>\n",
       "      <th>3</th>\n",
       "      <td>AFG</td>\n",
       "      <td>Asia</td>\n",
       "      <td>Afghanistan</td>\n",
       "      <td>27/02/2020</td>\n",
       "      <td>5</td>\n",
       "      <td>0</td>\n",
       "    </tr>\n",
       "    <tr>\n",
       "      <th>4</th>\n",
       "      <td>AFG</td>\n",
       "      <td>Asia</td>\n",
       "      <td>Afghanistan</td>\n",
       "      <td>28/02/2020</td>\n",
       "      <td>5</td>\n",
       "      <td>0</td>\n",
       "    </tr>\n",
       "  </tbody>\n",
       "</table>\n",
       "</div>"
      ],
      "text/plain": [
       "  iso_code continent     location        date  total_cases  new_cases\n",
       "0      AFG      Asia  Afghanistan  24/02/2020            5          5\n",
       "1      AFG      Asia  Afghanistan  25/02/2020            5          0\n",
       "2      AFG      Asia  Afghanistan  26/02/2020            5          0\n",
       "3      AFG      Asia  Afghanistan  27/02/2020            5          0\n",
       "4      AFG      Asia  Afghanistan  28/02/2020            5          0"
      ]
     },
     "execution_count": 2,
     "metadata": {},
     "output_type": "execute_result"
    }
   ],
   "source": [
    "covid_data = pd.read_csv(\"covid-data.csv\")\n",
    "covid_data = covid_data[['iso_code','continent','location','date','total_cases','new_cases']]\n",
    "\n",
    "covid_data.head()"
   ]
  },
  {
   "cell_type": "code",
   "execution_count": 3,
   "id": "140d0dd2",
   "metadata": {},
   "outputs": [
    {
     "data": {
      "text/plain": [
       "iso_code       object\n",
       "continent      object\n",
       "location       object\n",
       "date           object\n",
       "total_cases     int64\n",
       "new_cases       int64\n",
       "dtype: object"
      ]
     },
     "execution_count": 3,
     "metadata": {},
     "output_type": "execute_result"
    }
   ],
   "source": [
    "covid_data.dtypes"
   ]
  },
  {
   "cell_type": "code",
   "execution_count": 4,
   "id": "aca23b29",
   "metadata": {},
   "outputs": [
    {
     "data": {
      "text/plain": [
       "(5818, 6)"
      ]
     },
     "execution_count": 4,
     "metadata": {},
     "output_type": "execute_result"
    }
   ],
   "source": [
    "covid_data.shape"
   ]
  },
  {
   "cell_type": "markdown",
   "id": "86f20241",
   "metadata": {},
   "source": [
    "## Statistical Concepts"
   ]
  },
  {
   "cell_type": "markdown",
   "id": "764cfccf",
   "metadata": {},
   "source": [
    "### Mean"
   ]
  },
  {
   "cell_type": "markdown",
   "id": "1ade8962",
   "metadata": {},
   "source": [
    "The mean is considered the average of a dataset. To calculate the mean, we need to sum up all the data points and divide the sum by the number of data points in our dataset. It is very sensitive to outliers. Since unusually high or low numbers will affect the sum of data points without affecting the number of data points, these outliers can heavily influence the mean of a dataset."
   ]
  },
  {
   "cell_type": "code",
   "execution_count": 5,
   "id": "99cc4213",
   "metadata": {},
   "outputs": [
    {
     "data": {
      "text/plain": [
       "8814.365761430045"
      ]
     },
     "execution_count": 5,
     "metadata": {},
     "output_type": "execute_result"
    }
   ],
   "source": [
    "data_mean = np.mean(covid_data['new_cases'])\n",
    "data_mean"
   ]
  },
  {
   "cell_type": "markdown",
   "id": "97a11d24",
   "metadata": {},
   "source": [
    "### Median"
   ]
  },
  {
   "cell_type": "markdown",
   "id": "c2bc4e26",
   "metadata": {},
   "source": [
    "The median is the middle value within a sorted dataset (ascending or descending order). Half of the data points in the dataset are less than the median, and the other half of the data points are greater than the median. Unlike the mean, the median is not sensitive to outliers. To calculate the median, we sort the dataset and select the middle value if the number of datapoints is odd. If it is even, we select the two middle values and find the average to get the median."
   ]
  },
  {
   "cell_type": "code",
   "execution_count": 6,
   "id": "4cdaad6e",
   "metadata": {},
   "outputs": [
    {
     "data": {
      "text/plain": [
       "261.0"
      ]
     },
     "execution_count": 6,
     "metadata": {},
     "output_type": "execute_result"
    }
   ],
   "source": [
    "data_median = np.median(covid_data[\"new_cases\"])\n",
    "data_median"
   ]
  },
  {
   "cell_type": "markdown",
   "id": "e22ca31c",
   "metadata": {},
   "source": [
    "### Mode"
   ]
  },
  {
   "cell_type": "markdown",
   "id": "400ea79d",
   "metadata": {},
   "source": [
    "The mode is the value that occurs most frequently in the dataset, or simply put, the most common value in a dataset. Unlike the mean and median, which must be applied to numeric values, the mode can be applied to both numeric and non-numeric values since the focus is on the frequency at which a value occurs. The mode provides quick insights into the most common value."
   ]
  },
  {
   "cell_type": "code",
   "execution_count": 7,
   "id": "c1b421bd",
   "metadata": {},
   "outputs": [
    {
     "data": {
      "text/plain": [
       "ModeResult(mode=0, count=805)"
      ]
     },
     "execution_count": 7,
     "metadata": {},
     "output_type": "execute_result"
    }
   ],
   "source": [
    "data_mode = stats.mode(covid_data['new_cases'], keepdims=False)\n",
    "data_mode"
   ]
  },
  {
   "cell_type": "markdown",
   "id": "ca21777f",
   "metadata": {},
   "source": [
    "### Data Variance"
   ]
  },
  {
   "cell_type": "markdown",
   "id": "a5a1a3df",
   "metadata": {},
   "source": [
    "Just like we may want to know where the center of a dataset lies, we may also want to know how widely spread the dataset is, for example, how far apart the numbers in the dataset are from each other. That's the role of the variance. the variance gives us a sense of the spread of a dataset or the variability."
   ]
  },
  {
   "cell_type": "code",
   "execution_count": 8,
   "id": "174a9741",
   "metadata": {},
   "outputs": [
    {
     "data": {
      "text/plain": [
       "451321915.92810047"
      ]
     },
     "execution_count": 8,
     "metadata": {},
     "output_type": "execute_result"
    }
   ],
   "source": [
    "data_variance = np.var(covid_data['new_cases'])\n",
    "data_variance"
   ]
  },
  {
   "cell_type": "markdown",
   "id": "f3029100",
   "metadata": {},
   "source": [
    "### Standard Deviation"
   ]
  },
  {
   "cell_type": "markdown",
   "id": "d37ef4b2",
   "metadata": {},
   "source": [
    "The standard deviation is derived from the variance and is simply the square root of the variance. The standard deviation is typically more intuitive because it is expressed in the same units as the dataset, for example, kilometers (km). On the other hand, the variance is typically expressed in units larger than the dataset and can be less intuitive, for example, kilometers squared (km2)."
   ]
  },
  {
   "cell_type": "code",
   "execution_count": 9,
   "id": "dd9ab412",
   "metadata": {},
   "outputs": [
    {
     "data": {
      "text/plain": [
       "21244.33844411495"
      ]
     },
     "execution_count": 9,
     "metadata": {},
     "output_type": "execute_result"
    }
   ],
   "source": [
    "data_sd = np.std(covid_data['new_cases'])\n",
    "data_sd"
   ]
  },
  {
   "cell_type": "markdown",
   "id": "4985e75b",
   "metadata": {},
   "source": [
    "### Range"
   ]
  },
  {
   "cell_type": "markdown",
   "id": "78bd5f26",
   "metadata": {},
   "source": [
    "The range also helps us understand the spread of a dataset or how far apart the dataset’s numbers are from each other. It is the difference between the minimum and maximum values within a dataset."
   ]
  },
  {
   "cell_type": "code",
   "execution_count": 10,
   "id": "f2b09dc8",
   "metadata": {},
   "outputs": [
    {
     "name": "stdout",
     "output_type": "stream",
     "text": [
      "287149 0\n"
     ]
    }
   ],
   "source": [
    "data_max = np.max(covid_data['new_cases'])\n",
    "data_min = np.min(covid_data['new_cases'])\n",
    "\n",
    "print(data_max, data_min)"
   ]
  },
  {
   "cell_type": "code",
   "execution_count": 11,
   "id": "efcaa17d",
   "metadata": {},
   "outputs": [
    {
     "data": {
      "text/plain": [
       "287149"
      ]
     },
     "execution_count": 11,
     "metadata": {},
     "output_type": "execute_result"
    }
   ],
   "source": [
    "data_range = data_max - data_min\n",
    "data_range"
   ]
  },
  {
   "cell_type": "markdown",
   "id": "dcb22bb8",
   "metadata": {},
   "source": [
    "### Percentile"
   ]
  },
  {
   "cell_type": "markdown",
   "id": "881c0026",
   "metadata": {},
   "source": [
    "The percentile is an interesting statistic because it can be used to measure the spread of a dataset and, at the same time, identify the center of a dataset. The percentile divides the dataset into 100 equal portions, allowing us to determine the values in a dataset above or below a certain limit. Typically, 99 percentiles will split your dataset into 100 equal portions. The value of the 50th percentile is the same value as the median."
   ]
  },
  {
   "cell_type": "code",
   "execution_count": 12,
   "id": "39fd2fdc",
   "metadata": {},
   "outputs": [
    {
     "data": {
      "text/plain": [
       "10130.000000000002"
      ]
     },
     "execution_count": 12,
     "metadata": {},
     "output_type": "execute_result"
    }
   ],
   "source": [
    "data_percentile = np.percentile(covid_data['new_cases'],80)\n",
    "data_percentile"
   ]
  },
  {
   "cell_type": "markdown",
   "id": "3213aac9",
   "metadata": {},
   "source": [
    "### Quartile"
   ]
  },
  {
   "cell_type": "markdown",
   "id": "0a72d10e",
   "metadata": {},
   "source": [
    "The quartile is like the percentile because it can be used to measure the spread and identify the center of a dataset. Percentiles and quartiles are called quantiles. While the percentile divides the dataset into 100 equal portions, the quartile divides the dataset into 4 equal portions. Typically, three quartiles will split your dataset into four equal portions."
   ]
  },
  {
   "cell_type": "code",
   "execution_count": 13,
   "id": "f612df41",
   "metadata": {},
   "outputs": [
    {
     "data": {
      "text/plain": [
       "3666.0"
      ]
     },
     "execution_count": 13,
     "metadata": {},
     "output_type": "execute_result"
    }
   ],
   "source": [
    "data_quartile = np.quantile(covid_data['new_cases'],0.75) #3rd quartile (Q3)\n",
    "data_quartile"
   ]
  },
  {
   "cell_type": "markdown",
   "id": "656709e6",
   "metadata": {},
   "source": [
    "### Interquartile Range (IQR)"
   ]
  },
  {
   "cell_type": "markdown",
   "id": "1e791acd",
   "metadata": {},
   "source": [
    "The IQR also measures the spread or variability of a dataset. It is simply the distance between the first and third quartiles. The IQR is a very useful statistic, especially when we need to identify where the middle 50% of values in a dataset lie. Unlike the range, which can be skewed by very high or low numbers (outliers), the IQR isn’t affected by outliers since it focuses on the middle 50. It is also useful when we need to compute for outliers in a dataset."
   ]
  },
  {
   "cell_type": "code",
   "execution_count": 14,
   "id": "22efe22c",
   "metadata": {},
   "outputs": [
    {
     "data": {
      "text/plain": [
       "3642.0"
      ]
     },
     "execution_count": 14,
     "metadata": {},
     "output_type": "execute_result"
    }
   ],
   "source": [
    "data_IQR = stats.iqr(covid_data['new_cases'])\n",
    "data_IQR"
   ]
  }
 ],
 "metadata": {
  "kernelspec": {
   "display_name": "Python 3 (ipykernel)",
   "language": "python",
   "name": "python3"
  },
  "language_info": {
   "codemirror_mode": {
    "name": "ipython",
    "version": 3
   },
   "file_extension": ".py",
   "mimetype": "text/x-python",
   "name": "python",
   "nbconvert_exporter": "python",
   "pygments_lexer": "ipython3",
   "version": "3.10.9"
  }
 },
 "nbformat": 4,
 "nbformat_minor": 5
}
